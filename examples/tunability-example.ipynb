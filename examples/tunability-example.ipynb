{
  "cells": [
    {
      "cell_type": "markdown",
      "id": "74b6c2461143b273",
      "metadata": {},
      "source": [
        "# HyperSHAP: Example for Tunability Explanations\n",
        "\n",
        "In this example, we consider the scenario where we want to explain the tunability of hyperparameters with respect to a baseline configuration and analyze to what extent tuning (sets of) hyperparameters benefits performance.\n",
        "\n",
        "## Mockup setup of environment\n",
        "To this end, we first setup some basic environment, which is assumed to be already existing when working with HyperSHAP. We will setup a configuration space, a baseline configuration and a black box function for which we would like to analyze the tunability of the hyperparameters."
      ]
    },
    {
      "cell_type": "code",
      "execution_count": null,
      "id": "initial_id",
      "metadata": {
        "collapsed": true
      },
      "outputs": [],
      "source": [
        "from __future__ import annotations\n",
        "\n",
        "import math\n",
        "\n",
        "from ConfigSpace import Configuration, ConfigurationSpace\n",
        "\n",
        "# Configuration space with a float, integer, and categorical hyperparameter\n",
        "cs = ConfigurationSpace(\n",
        "    name=\"myspace\",\n",
        "    space={\n",
        "        \"a\": (0.1, 1.5),  # UniformFloat\n",
        "        \"b\": (2, 10),  # UniformInt\n",
        "        \"c\": [\"X\", \"Y\"],  # Categorical\n",
        "    },\n",
        ")\n",
        "\n",
        "\n",
        "# Some evaluation function that assesses the performance of some configuration\n",
        "def eval_fun(config: Configuration) -> float:\n",
        "    if config[\"c\"] == \"X\":\n",
        "        return math.sin(config[\"a\"]) + config[\"b\"]\n",
        "    if config[\"c\"] == \"Y\":\n",
        "        return math.cos(config[\"a\"] * config[\"b\"]) + 1.5\n",
        "    return 0\n",
        "\n",
        "\n",
        "cs.seed(42)  # set some random seed for reproducibility\n",
        "\n",
        "# sample some configuration as a baseline\n",
        "baseline_config = cs.sample_configuration()\n",
        "\n",
        "print(\"Baseline\", baseline_config, \"\\nValue\", eval_fun(baseline_config))"
      ]
    },
    {
      "cell_type": "markdown",
      "id": "97bf13e91a18e32e",
      "metadata": {},
      "source": [
        "## HyperSHAP Instantiation with Configuration Space and Surrogate Model\n",
        "\n",
        "Now it is time to instantiate HyperSHAP. For this, we need to define an explanation task that consists of a configuration space and a surrogate model for predicting the performance of a configuration. `ExplanationTask` comes with a couple of static convenience functions that facilitate the transition from the above configuration space and eval function to an explanation task. For simply building a surrogate model from the specified evaluation function, we can simply call the `from_function()` method and give the resulting explanation task to HyperSHAP."
      ]
    },
    {
      "cell_type": "code",
      "execution_count": null,
      "id": "31b290fdd2788b74",
      "metadata": {},
      "outputs": [],
      "source": [
        "from hypershap.hypershap import HyperSHAP\n",
        "from hypershap.task import ExplanationTask\n",
        "\n",
        "explanation_task = ExplanationTask.from_function(config_space=cs, function=eval_fun)\n",
        "hypershap = HyperSHAP(explanation_task=explanation_task)"
      ]
    },
    {
      "cell_type": "markdown",
      "id": "6d398a1ada8f99a2",
      "metadata": {},
      "source": "# HyperSHAP Tunability"
    },
    {
      "cell_type": "code",
      "execution_count": null,
      "id": "a248ad7cf028ced8",
      "metadata": {},
      "outputs": [],
      "source": [
        "iv = hypershap.tunability(baseline_config=baseline_config)\n",
        "print(iv)"
      ]
    },
    {
      "cell_type": "markdown",
      "id": "9c0b58a6ff43f6f1",
      "metadata": {},
      "source": [
        "## Plot Shapley Interactions Graph\n",
        "\n",
        "Now that we have determined the interaction values of the ablation game, let us look into some visualizations of the scenario above."
      ]
    },
    {
      "cell_type": "code",
      "execution_count": null,
      "id": "27ff3fe327082acf",
      "metadata": {},
      "outputs": [],
      "source": [
        "hypershap.plot_si_graph()"
      ]
    },
    {
      "cell_type": "code",
      "execution_count": null,
      "id": "3342b310b679b1c4",
      "metadata": {},
      "outputs": [],
      "source": []
    }
  ],
  "metadata": {
    "kernelspec": {
      "display_name": "Python 3",
      "language": "python",
      "name": "python3"
    },
    "language_info": {
      "codemirror_mode": {
        "name": "ipython",
        "version": 2
      },
      "file_extension": ".py",
      "mimetype": "text/x-python",
      "name": "python",
      "nbconvert_exporter": "python",
      "pygments_lexer": "ipython2",
      "version": "2.7.6"
    }
  },
  "nbformat": 4,
  "nbformat_minor": 5
}
