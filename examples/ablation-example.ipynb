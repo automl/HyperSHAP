{
  "cells": [
    {
      "cell_type": "markdown",
      "id": "74b6c2461143b273",
      "metadata": {},
      "source": [
        "# HyperSHAP: Example for ablation explanations\n",
        "\n",
        "In this example, we consider the scenario where we want to explain the values of a specific configuration and how its individual setting affects performance contrasting with a baseline configuration.\n",
        "\n",
        "## Mockup setup of environment\n",
        "To this end, we first setup some basic environment, which is assumed to be already existing when working with HyperSHAP. We will setup a configuration space, a baseline configuration and a configuration of interest we would like to explain in the subsequent example."
      ]
    },
    {
      "cell_type": "code",
      "execution_count": null,
      "id": "initial_id",
      "metadata": {
        "collapsed": true
      },
      "outputs": [],
      "source": [
        "import math\n",
        "\n",
        "from ConfigSpace import Configuration, ConfigurationSpace\n",
        "\n",
        "# Configuration space with a float, integer, and categorical hyperparameter\n",
        "cs = ConfigurationSpace(\n",
        "    name=\"myspace\",\n",
        "    space={\n",
        "        \"a\": (0.1, 1.5),  # UniformFloat\n",
        "        \"b\": (2, 10),  # UniformInt\n",
        "        \"c\": [\"X\", \"Y\"],  # Categorical\n",
        "    },\n",
        ")\n",
        "\n",
        "\n",
        "# Some evaluation function that assesses the performance of some configuration\n",
        "def eval_fun(config: Configuration) -> float:\n",
        "    if config[\"c\"] == \"X\":\n",
        "        return math.sin(config[\"a\"]) + config[\"b\"]\n",
        "    elif config[\"c\"] == \"Y\":\n",
        "        return math.cos(config[\"a\"] * config[\"b\"]) + 1.5\n",
        "    else:\n",
        "        return 0\n",
        "\n",
        "\n",
        "# some helper function for conducting some random search HPO\n",
        "def random_search(config_space, fun, n) -> Configuration:\n",
        "    configs = config_space.sample_configuration(n)\n",
        "    best_config = None\n",
        "    best_val = None\n",
        "    for config in configs:\n",
        "        val = fun(config)\n",
        "        if best_config is None or val > best_val:\n",
        "            best_config = config\n",
        "            best_val = val\n",
        "    return best_config\n",
        "\n",
        "\n",
        "cs.seed(42)  # set some random seed for reproducibility\n",
        "\n",
        "# sample some configuration as a baseline\n",
        "baseline_config = cs.sample_configuration()\n",
        "# get some \"optimized configuration\"\n",
        "config_of_interest = random_search(cs, eval_fun, 1000)\n",
        "\n",
        "print(\"Baseline\", baseline_config, \"\\nValue\", eval_fun(baseline_config))\n",
        "print(\"\")\n",
        "print(\"Config of interest\", config_of_interest, \"\\nValue\", eval_fun(config_of_interest))"
      ]
    },
    {
      "cell_type": "markdown",
      "id": "97bf13e91a18e32e",
      "metadata": {},
      "source": [
        "## HyperSHAP Instantiation with Configuration Space and Surrogate Model\n",
        "\n",
        "Now it is time to instantiate HyperSHAP. For this, we need to define an explanation task that consists of a configuration space and a surrogate model for predicting the performance of a configuration. `ExplanationTask` comes with a couple of static convenience functions that facilitate the transition from the above configuration space and eval function to an explanation task. For simply building a surrogate model from the specified evaluation function, we can simply call the `from_function()` method and give the resulting explanation task to HyperSHAP."
      ]
    },
    {
      "cell_type": "code",
      "execution_count": null,
      "id": "31b290fdd2788b74",
      "metadata": {},
      "outputs": [],
      "source": [
        "from hypershap.hypershap import HyperSHAP\n",
        "from hypershap.task import ExplanationTask\n",
        "\n",
        "explanation_task = ExplanationTask.from_function(config_space=cs, function=eval_fun)\n",
        "hypershap = HyperSHAP(explanation_task=explanation_task)"
      ]
    },
    {
      "cell_type": "markdown",
      "id": "6d398a1ada8f99a2",
      "metadata": {},
      "source": "# HyperSHAP Ablation"
    },
    {
      "cell_type": "code",
      "execution_count": null,
      "id": "a248ad7cf028ced8",
      "metadata": {},
      "outputs": [],
      "source": [
        "iv = hypershap.ablation(config_of_interest=config_of_interest, baseline_config=baseline_config)\n",
        "print(iv)"
      ]
    },
    {
      "cell_type": "markdown",
      "id": "9c0b58a6ff43f6f1",
      "metadata": {},
      "source": [
        "## Plot Shapley Interactions Graph\n",
        "\n",
        "Now that we have determined the interaction values of the ablation game, let us look into some visualizations of the scenario above."
      ]
    },
    {
      "cell_type": "code",
      "execution_count": null,
      "id": "27ff3fe327082acf",
      "metadata": {},
      "outputs": [],
      "source": [
        "hypershap.plot_si_graph()"
      ]
    }
  ],
  "metadata": {
    "kernelspec": {
      "display_name": "Python 3",
      "language": "python",
      "name": "python3"
    },
    "language_info": {
      "codemirror_mode": {
        "name": "ipython",
        "version": 2
      },
      "file_extension": ".py",
      "mimetype": "text/x-python",
      "name": "python",
      "nbconvert_exporter": "python",
      "pygments_lexer": "ipython2",
      "version": "2.7.6"
    }
  },
  "nbformat": 4,
  "nbformat_minor": 5
}
